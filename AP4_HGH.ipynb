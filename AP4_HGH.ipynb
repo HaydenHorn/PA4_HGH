{
 "cells": [
  {
   "cell_type": "code",
   "execution_count": 1,
   "id": "c2fcda86",
   "metadata": {},
   "outputs": [
    {
     "name": "stdout",
     "output_type": "stream",
     "text": [
      "[21, 15, 37, 45, 62]\n"
     ]
    }
   ],
   "source": [
    "numbers= [21,15,37,45]\n",
    "numbers.append(62)\n",
    "print(numbers)"
   ]
  },
  {
   "cell_type": "code",
   "execution_count": 2,
   "id": "2221980a",
   "metadata": {},
   "outputs": [
    {
     "name": "stdout",
     "output_type": "stream",
     "text": [
      "[21, 15, 37, 45, 62, 34, 76, 3]\n"
     ]
    }
   ],
   "source": [
    "numbers.extend([34,76,3])\n",
    "print(numbers)"
   ]
  },
  {
   "cell_type": "code",
   "execution_count": 3,
   "id": "2df033d8",
   "metadata": {},
   "outputs": [
    {
     "name": "stdout",
     "output_type": "stream",
     "text": [
      "[25, 21, 15, 37, 45, 62, 34, 76, 3]\n"
     ]
    }
   ],
   "source": [
    "numbers.insert(0,25)\n",
    "print(numbers)"
   ]
  },
  {
   "cell_type": "code",
   "execution_count": 4,
   "id": "39cbc964",
   "metadata": {},
   "outputs": [
    {
     "name": "stdout",
     "output_type": "stream",
     "text": [
      "[25, 21, 15, 45, 62, 34, 76, 3]\n"
     ]
    }
   ],
   "source": [
    "numbers.remove(37)\n",
    "print(numbers)"
   ]
  },
  {
   "cell_type": "code",
   "execution_count": 5,
   "id": "4bc1a597",
   "metadata": {},
   "outputs": [
    {
     "data": {
      "text/plain": [
       "1"
      ]
     },
     "execution_count": 5,
     "metadata": {},
     "output_type": "execute_result"
    }
   ],
   "source": [
    "numbers.count(21)"
   ]
  },
  {
   "cell_type": "code",
   "execution_count": 6,
   "id": "9ee0a0cc",
   "metadata": {},
   "outputs": [
    {
     "data": {
      "text/plain": [
       "2"
      ]
     },
     "execution_count": 6,
     "metadata": {},
     "output_type": "execute_result"
    }
   ],
   "source": [
    "numbers.index(15)"
   ]
  },
  {
   "cell_type": "code",
   "execution_count": 7,
   "id": "d3d40564",
   "metadata": {},
   "outputs": [
    {
     "name": "stdout",
     "output_type": "stream",
     "text": [
      "[25, 21, 15, 62, 34, 76, 3]\n"
     ]
    }
   ],
   "source": [
    "numbers.pop(3)\n",
    "print(numbers)\n",
    "#45 will be removed because it was the 4th term."
   ]
  },
  {
   "cell_type": "code",
   "execution_count": 9,
   "id": "8114cdb2",
   "metadata": {},
   "outputs": [
    {
     "name": "stdout",
     "output_type": "stream",
     "text": [
      "[3, 15, 21, 25, 34, 62, 76]\n"
     ]
    }
   ],
   "source": [
    "numbers.sort()\n",
    "print(numbers)"
   ]
  },
  {
   "cell_type": "code",
   "execution_count": 15,
   "id": "b1ca1124",
   "metadata": {},
   "outputs": [
    {
     "data": {
      "text/plain": [
       "[3, 15, 21, 25, 34, 62, 76]"
      ]
     },
     "execution_count": 15,
     "metadata": {},
     "output_type": "execute_result"
    }
   ],
   "source": [
    "x = numbers.copy\n",
    "x \n",
    "numbers"
   ]
  },
  {
   "cell_type": "code",
   "execution_count": null,
   "id": "7e2e7d80",
   "metadata": {},
   "outputs": [],
   "source": [
    "numbers= [25,21,15,62,34,76,3]\n",
    "numbers.clear"
   ]
  },
  {
   "cell_type": "code",
   "execution_count": 20,
   "id": "da39151b",
   "metadata": {},
   "outputs": [
    {
     "data": {
      "text/plain": [
       "True"
      ]
     },
     "execution_count": 20,
     "metadata": {},
     "output_type": "execute_result"
    }
   ],
   "source": [
    "H=[1,2,3,4,5]\n",
    "any([x==3 for x in H])"
   ]
  },
  {
   "cell_type": "code",
   "execution_count": null,
   "id": "1e102875",
   "metadata": {},
   "outputs": [],
   "source": []
  },
  {
   "cell_type": "code",
   "execution_count": 32,
   "id": "323fef7f",
   "metadata": {},
   "outputs": [
    {
     "name": "stdout",
     "output_type": "stream",
     "text": [
      "[1, 4, 27, 256, 3125, 46656, 5842587018385982521381124421]\n"
     ]
    }
   ],
   "source": [
    "list=[1,2,3,4,5,6,21]\n",
    "def func(x):\n",
    "    return(x**x)\n",
    "y=[]\n",
    "for x in list:\n",
    "    y.append(func(x))\n",
    "print(y)"
   ]
  },
  {
   "cell_type": "code",
   "execution_count": 37,
   "id": "2540bc56",
   "metadata": {},
   "outputs": [
    {
     "name": "stdout",
     "output_type": "stream",
     "text": [
      "1\n"
     ]
    }
   ],
   "source": [
    "Hayden=[\"hayden\"]\n",
    "print(len(Hayden))"
   ]
  },
  {
   "cell_type": "code",
   "execution_count": 38,
   "id": "1c9b93d5",
   "metadata": {},
   "outputs": [
    {
     "name": "stdout",
     "output_type": "stream",
     "text": [
      "76\n"
     ]
    }
   ],
   "source": [
    "list=[23,54,76,21,4]\n",
    "print(max(list))"
   ]
  },
  {
   "cell_type": "code",
   "execution_count": null,
   "id": "15b2cfeb",
   "metadata": {},
   "outputs": [],
   "source": []
  },
  {
   "cell_type": "code",
   "execution_count": null,
   "id": "74d99510",
   "metadata": {},
   "outputs": [],
   "source": []
  },
  {
   "cell_type": "markdown",
   "id": "2deaa199",
   "metadata": {},
   "source": [
    "# Hayden Horn - Bellarmine - Fall Semester - 10/15/21"
   ]
  }
 ],
 "metadata": {
  "kernelspec": {
   "display_name": "Python 3",
   "language": "python",
   "name": "python3"
  },
  "language_info": {
   "codemirror_mode": {
    "name": "ipython",
    "version": 3
   },
   "file_extension": ".py",
   "mimetype": "text/x-python",
   "name": "python",
   "nbconvert_exporter": "python",
   "pygments_lexer": "ipython3",
   "version": "3.8.8"
  }
 },
 "nbformat": 4,
 "nbformat_minor": 5
}
